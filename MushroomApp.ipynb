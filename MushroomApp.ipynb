{
 "cells": [
  {
   "cell_type": "code",
   "execution_count": 1,
   "id": "9b00f821",
   "metadata": {},
   "outputs": [],
   "source": [
    "# from fastbook import *\n",
    "from fastai.vision.widgets import *\n",
    "from fastai.vision.all import *\n",
    "from pathlib import Path"
   ]
  },
  {
   "cell_type": "markdown",
   "id": "c8547c97",
   "metadata": {},
   "source": [
    "# Poisonous mushroom App"
   ]
  },
  {
   "cell_type": "code",
   "execution_count": 2,
   "id": "c6c4b4b4",
   "metadata": {},
   "outputs": [],
   "source": [
    "path = Path('Mushrooms')\n",
    "learn_inf = load_learner(path/'mushroomModel.pkl')"
   ]
  },
  {
   "cell_type": "code",
   "execution_count": 3,
   "id": "2bfd5a96",
   "metadata": {},
   "outputs": [
    {
     "name": "stdout",
     "output_type": "stream",
     "text": [
      "This poisonouse mushroom types:\n",
      "['Autumn Skullcap', 'Conocybe filaris', 'Deadly Dapperling', 'Death Cap', 'Destroying Angels', 'Podostroma cornu-damae', 'Webcaps']\n"
     ]
    }
   ],
   "source": [
    "print('This poisonouse mushroom types:\\n'\n",
    "      f'{learn_inf.dls.vocab}')"
   ]
  },
  {
   "cell_type": "code",
   "execution_count": 4,
   "id": "41fcf0cb",
   "metadata": {},
   "outputs": [],
   "source": [
    "btn_upload = widgets.FileUpload()"
   ]
  },
  {
   "cell_type": "code",
   "execution_count": 5,
   "id": "d9e188fa",
   "metadata": {},
   "outputs": [],
   "source": [
    "out_pl = widgets.Output()"
   ]
  },
  {
   "cell_type": "code",
   "execution_count": 6,
   "id": "cce0df42",
   "metadata": {},
   "outputs": [],
   "source": [
    "lbl_pred = widgets.Label()"
   ]
  },
  {
   "cell_type": "code",
   "execution_count": 7,
   "id": "bc690e54",
   "metadata": {},
   "outputs": [],
   "source": [
    "btn_run = widgets.Button(description='Classify')"
   ]
  },
  {
   "cell_type": "code",
   "execution_count": 8,
   "id": "aebd0d73",
   "metadata": {},
   "outputs": [],
   "source": [
    "def on_click_classify(change):\n",
    "    target_img = PILImage.create(btn_upload.data[-1])\n",
    "    out_pl.clear_output()\n",
    "    with out_pl: display(target_img.to_thumb(128,128))\n",
    "    pred, pred_idx, probs = learn_inf.predict(target_img)\n",
    "    lbl_pred.value = f'Prediction: {pred}, Probability: {probs[pred_idx]:0.4f}'\n",
    "    \n",
    "btn_run.on_click(on_click_classify)"
   ]
  },
  {
   "cell_type": "code",
   "execution_count": 9,
   "id": "8c80c13b",
   "metadata": {},
   "outputs": [
    {
     "data": {
      "application/vnd.jupyter.widget-view+json": {
       "model_id": "1734f85d92504ec9a9c8f10afd30f3e0",
       "version_major": 2,
       "version_minor": 0
      },
      "text/plain": [
       "VBox(children=(Label(value='Select your mushroom!'), FileUpload(value={}, description='Upload'), Button(descri…"
      ]
     },
     "metadata": {},
     "output_type": "display_data"
    }
   ],
   "source": [
    "VBox([widgets.Label('Select your mushroom!'),\n",
    "     btn_upload, btn_run, out_pl, lbl_pred])"
   ]
  }
 ],
 "metadata": {
  "environment": {
   "name": "pytorch-gpu.1-8.m65",
   "type": "gcloud",
   "uri": "gcr.io/deeplearning-platform-release/pytorch-gpu.1-8:m65"
  },
  "kernelspec": {
   "display_name": "Python [conda env:root] *",
   "language": "python",
   "name": "conda-root-py"
  },
  "language_info": {
   "codemirror_mode": {
    "name": "ipython",
    "version": 3
   },
   "file_extension": ".py",
   "mimetype": "text/x-python",
   "name": "python",
   "nbconvert_exporter": "python",
   "pygments_lexer": "ipython3",
   "version": "3.7.10"
  }
 },
 "nbformat": 4,
 "nbformat_minor": 5
}
